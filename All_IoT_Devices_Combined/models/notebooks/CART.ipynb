{
 "cells": [
  {
   "cell_type": "code",
   "execution_count": 5,
   "metadata": {},
   "outputs": [],
   "source": [
    "import pandas as pd\n",
    "from sklearn.preprocessing import LabelEncoder\n",
    "from sklearn.model_selection import train_test_split\n",
    "from sklearn.tree import DecisionTreeClassifier\n",
    "from sklearn.metrics import classification_report\n",
    "import pickle"
   ]
  },
  {
   "cell_type": "code",
   "execution_count": 6,
   "metadata": {},
   "outputs": [
    {
     "data": {
      "text/html": [
       "<div>\n",
       "<style scoped>\n",
       "    .dataframe tbody tr th:only-of-type {\n",
       "        vertical-align: middle;\n",
       "    }\n",
       "\n",
       "    .dataframe tbody tr th {\n",
       "        vertical-align: top;\n",
       "    }\n",
       "\n",
       "    .dataframe thead th {\n",
       "        text-align: right;\n",
       "    }\n",
       "</style>\n",
       "<table border=\"1\" class=\"dataframe\">\n",
       "  <thead>\n",
       "    <tr style=\"text-align: right;\">\n",
       "      <th></th>\n",
       "      <th>date-time</th>\n",
       "      <th>fridge_temperature</th>\n",
       "      <th>fridge_temp_condition</th>\n",
       "      <th>door_state</th>\n",
       "      <th>door_sphone_signal</th>\n",
       "      <th>door_type</th>\n",
       "      <th>gps_latitude</th>\n",
       "      <th>gps_longitude</th>\n",
       "      <th>modbus_FC1_Read_Input_Register</th>\n",
       "      <th>modbus_FC2_Read_Discrete_Value</th>\n",
       "      <th>modbus_FC3_Read_Holding_Register</th>\n",
       "      <th>modbus_FC4_Read_Coil</th>\n",
       "      <th>ml_motion_status</th>\n",
       "      <th>ml_light_status</th>\n",
       "      <th>thermostat_current_temperature</th>\n",
       "      <th>thermostat_status</th>\n",
       "      <th>weather_temperature</th>\n",
       "      <th>weather_pressure</th>\n",
       "      <th>weather_humidity</th>\n",
       "    </tr>\n",
       "  </thead>\n",
       "  <tbody>\n",
       "    <tr>\n",
       "      <th>0</th>\n",
       "      <td>31-03-19~12:36:52</td>\n",
       "      <td>13.10</td>\n",
       "      <td>0</td>\n",
       "      <td>0</td>\n",
       "      <td>0</td>\n",
       "      <td>2</td>\n",
       "      <td>0.0</td>\n",
       "      <td>10.0</td>\n",
       "      <td>11287</td>\n",
       "      <td>3537</td>\n",
       "      <td>27844</td>\n",
       "      <td>30527</td>\n",
       "      <td>1</td>\n",
       "      <td>1</td>\n",
       "      <td>25.0</td>\n",
       "      <td>0</td>\n",
       "      <td>31.788508</td>\n",
       "      <td>1.035</td>\n",
       "      <td>32.036579</td>\n",
       "    </tr>\n",
       "    <tr>\n",
       "      <th>1</th>\n",
       "      <td>31-03-19~12:36:53</td>\n",
       "      <td>8.65</td>\n",
       "      <td>0</td>\n",
       "      <td>0</td>\n",
       "      <td>0</td>\n",
       "      <td>2</td>\n",
       "      <td>0.0</td>\n",
       "      <td>10.0</td>\n",
       "      <td>11287</td>\n",
       "      <td>3537</td>\n",
       "      <td>27844</td>\n",
       "      <td>30527</td>\n",
       "      <td>0</td>\n",
       "      <td>0</td>\n",
       "      <td>25.0</td>\n",
       "      <td>0</td>\n",
       "      <td>41.630997</td>\n",
       "      <td>1.035</td>\n",
       "      <td>30.886165</td>\n",
       "    </tr>\n",
       "    <tr>\n",
       "      <th>2</th>\n",
       "      <td>31-03-19~12:36:54</td>\n",
       "      <td>2.00</td>\n",
       "      <td>1</td>\n",
       "      <td>0</td>\n",
       "      <td>0</td>\n",
       "      <td>2</td>\n",
       "      <td>0.0</td>\n",
       "      <td>10.0</td>\n",
       "      <td>11287</td>\n",
       "      <td>3537</td>\n",
       "      <td>27844</td>\n",
       "      <td>30527</td>\n",
       "      <td>0</td>\n",
       "      <td>0</td>\n",
       "      <td>25.0</td>\n",
       "      <td>0</td>\n",
       "      <td>42.256959</td>\n",
       "      <td>1.035</td>\n",
       "      <td>19.755908</td>\n",
       "    </tr>\n",
       "    <tr>\n",
       "      <th>3</th>\n",
       "      <td>31-03-19~12:36:55</td>\n",
       "      <td>4.80</td>\n",
       "      <td>1</td>\n",
       "      <td>0</td>\n",
       "      <td>0</td>\n",
       "      <td>2</td>\n",
       "      <td>0.0</td>\n",
       "      <td>10.0</td>\n",
       "      <td>53287</td>\n",
       "      <td>1463</td>\n",
       "      <td>33518</td>\n",
       "      <td>23014</td>\n",
       "      <td>1</td>\n",
       "      <td>1</td>\n",
       "      <td>25.0</td>\n",
       "      <td>0</td>\n",
       "      <td>49.116581</td>\n",
       "      <td>1.035</td>\n",
       "      <td>78.949621</td>\n",
       "    </tr>\n",
       "    <tr>\n",
       "      <th>4</th>\n",
       "      <td>31-03-19~12:36:56</td>\n",
       "      <td>10.70</td>\n",
       "      <td>0</td>\n",
       "      <td>0</td>\n",
       "      <td>0</td>\n",
       "      <td>2</td>\n",
       "      <td>0.0</td>\n",
       "      <td>10.0</td>\n",
       "      <td>53287</td>\n",
       "      <td>1463</td>\n",
       "      <td>33518</td>\n",
       "      <td>23014</td>\n",
       "      <td>1</td>\n",
       "      <td>1</td>\n",
       "      <td>25.0</td>\n",
       "      <td>0</td>\n",
       "      <td>24.017085</td>\n",
       "      <td>1.035</td>\n",
       "      <td>40.001059</td>\n",
       "    </tr>\n",
       "  </tbody>\n",
       "</table>\n",
       "</div>"
      ],
      "text/plain": [
       "           date-time  fridge_temperature  fridge_temp_condition  door_state  \\\n",
       "0  31-03-19~12:36:52               13.10                      0           0   \n",
       "1  31-03-19~12:36:53                8.65                      0           0   \n",
       "2  31-03-19~12:36:54                2.00                      1           0   \n",
       "3  31-03-19~12:36:55                4.80                      1           0   \n",
       "4  31-03-19~12:36:56               10.70                      0           0   \n",
       "\n",
       "   door_sphone_signal  door_type  gps_latitude  gps_longitude  \\\n",
       "0                   0          2           0.0           10.0   \n",
       "1                   0          2           0.0           10.0   \n",
       "2                   0          2           0.0           10.0   \n",
       "3                   0          2           0.0           10.0   \n",
       "4                   0          2           0.0           10.0   \n",
       "\n",
       "   modbus_FC1_Read_Input_Register  modbus_FC2_Read_Discrete_Value  \\\n",
       "0                           11287                            3537   \n",
       "1                           11287                            3537   \n",
       "2                           11287                            3537   \n",
       "3                           53287                            1463   \n",
       "4                           53287                            1463   \n",
       "\n",
       "   modbus_FC3_Read_Holding_Register  modbus_FC4_Read_Coil  ml_motion_status  \\\n",
       "0                             27844                 30527                 1   \n",
       "1                             27844                 30527                 0   \n",
       "2                             27844                 30527                 0   \n",
       "3                             33518                 23014                 1   \n",
       "4                             33518                 23014                 1   \n",
       "\n",
       "   ml_light_status  thermostat_current_temperature  thermostat_status  \\\n",
       "0                1                            25.0                  0   \n",
       "1                0                            25.0                  0   \n",
       "2                0                            25.0                  0   \n",
       "3                1                            25.0                  0   \n",
       "4                1                            25.0                  0   \n",
       "\n",
       "   weather_temperature  weather_pressure  weather_humidity  \n",
       "0            31.788508             1.035         32.036579  \n",
       "1            41.630997             1.035         30.886165  \n",
       "2            42.256959             1.035         19.755908  \n",
       "3            49.116581             1.035         78.949621  \n",
       "4            24.017085             1.035         40.001059  "
      ]
     },
     "execution_count": 6,
     "metadata": {},
     "output_type": "execute_result"
    }
   ],
   "source": [
    "IoT = pd.read_csv('../../data/test_heterogeneous.csv')\n",
    "IoT = IoT.iloc[0:5000]\n",
    "\n",
    "IoT = IoT.dropna()\n",
    "\n",
    "encoder=LabelEncoder()\n",
    "IoT['fridge_temp_condition']=encoder.fit_transform(IoT['fridge_temp_condition'])\n",
    "IoT['door_state']=encoder.fit_transform(IoT['door_state'])\n",
    "IoT['door_sphone_signal']=encoder.fit_transform(IoT['door_sphone_signal'])\n",
    "IoT['door_type']=encoder.fit_transform(IoT['door_type'])\n",
    "IoT['ml_light_status']=encoder.fit_transform(IoT['ml_light_status'])\n",
    "\n",
    "IoT.head()"
   ]
  },
  {
   "cell_type": "code",
   "execution_count": 7,
   "metadata": {},
   "outputs": [],
   "source": [
    "x = IoT.drop(['door_type', 'date-time'], axis=1)\n",
    "y = IoT['door_type']\n",
    "\n",
    "features=len(x.columns)\n",
    "\n",
    "x_train,x_test,y_train,y_test = train_test_split(x, y, test_size=0.2)"
   ]
  },
  {
   "cell_type": "code",
   "execution_count": 8,
   "metadata": {},
   "outputs": [],
   "source": [
    "model7=DecisionTreeClassifier(criterion='gini')"
   ]
  },
  {
   "cell_type": "code",
   "execution_count": 9,
   "metadata": {},
   "outputs": [],
   "source": [
    "filename = '../h5s/CART.h5'\n",
    "pickle.dump(model7, open(filename, 'wb'))"
   ]
  },
  {
   "cell_type": "code",
   "execution_count": 10,
   "metadata": {},
   "outputs": [
    {
     "data": {
      "text/html": [
       "<style>#sk-container-id-1 {color: black;background-color: white;}#sk-container-id-1 pre{padding: 0;}#sk-container-id-1 div.sk-toggleable {background-color: white;}#sk-container-id-1 label.sk-toggleable__label {cursor: pointer;display: block;width: 100%;margin-bottom: 0;padding: 0.3em;box-sizing: border-box;text-align: center;}#sk-container-id-1 label.sk-toggleable__label-arrow:before {content: \"▸\";float: left;margin-right: 0.25em;color: #696969;}#sk-container-id-1 label.sk-toggleable__label-arrow:hover:before {color: black;}#sk-container-id-1 div.sk-estimator:hover label.sk-toggleable__label-arrow:before {color: black;}#sk-container-id-1 div.sk-toggleable__content {max-height: 0;max-width: 0;overflow: hidden;text-align: left;background-color: #f0f8ff;}#sk-container-id-1 div.sk-toggleable__content pre {margin: 0.2em;color: black;border-radius: 0.25em;background-color: #f0f8ff;}#sk-container-id-1 input.sk-toggleable__control:checked~div.sk-toggleable__content {max-height: 200px;max-width: 100%;overflow: auto;}#sk-container-id-1 input.sk-toggleable__control:checked~label.sk-toggleable__label-arrow:before {content: \"▾\";}#sk-container-id-1 div.sk-estimator input.sk-toggleable__control:checked~label.sk-toggleable__label {background-color: #d4ebff;}#sk-container-id-1 div.sk-label input.sk-toggleable__control:checked~label.sk-toggleable__label {background-color: #d4ebff;}#sk-container-id-1 input.sk-hidden--visually {border: 0;clip: rect(1px 1px 1px 1px);clip: rect(1px, 1px, 1px, 1px);height: 1px;margin: -1px;overflow: hidden;padding: 0;position: absolute;width: 1px;}#sk-container-id-1 div.sk-estimator {font-family: monospace;background-color: #f0f8ff;border: 1px dotted black;border-radius: 0.25em;box-sizing: border-box;margin-bottom: 0.5em;}#sk-container-id-1 div.sk-estimator:hover {background-color: #d4ebff;}#sk-container-id-1 div.sk-parallel-item::after {content: \"\";width: 100%;border-bottom: 1px solid gray;flex-grow: 1;}#sk-container-id-1 div.sk-label:hover label.sk-toggleable__label {background-color: #d4ebff;}#sk-container-id-1 div.sk-serial::before {content: \"\";position: absolute;border-left: 1px solid gray;box-sizing: border-box;top: 0;bottom: 0;left: 50%;z-index: 0;}#sk-container-id-1 div.sk-serial {display: flex;flex-direction: column;align-items: center;background-color: white;padding-right: 0.2em;padding-left: 0.2em;position: relative;}#sk-container-id-1 div.sk-item {position: relative;z-index: 1;}#sk-container-id-1 div.sk-parallel {display: flex;align-items: stretch;justify-content: center;background-color: white;position: relative;}#sk-container-id-1 div.sk-item::before, #sk-container-id-1 div.sk-parallel-item::before {content: \"\";position: absolute;border-left: 1px solid gray;box-sizing: border-box;top: 0;bottom: 0;left: 50%;z-index: -1;}#sk-container-id-1 div.sk-parallel-item {display: flex;flex-direction: column;z-index: 1;position: relative;background-color: white;}#sk-container-id-1 div.sk-parallel-item:first-child::after {align-self: flex-end;width: 50%;}#sk-container-id-1 div.sk-parallel-item:last-child::after {align-self: flex-start;width: 50%;}#sk-container-id-1 div.sk-parallel-item:only-child::after {width: 0;}#sk-container-id-1 div.sk-dashed-wrapped {border: 1px dashed gray;margin: 0 0.4em 0.5em 0.4em;box-sizing: border-box;padding-bottom: 0.4em;background-color: white;}#sk-container-id-1 div.sk-label label {font-family: monospace;font-weight: bold;display: inline-block;line-height: 1.2em;}#sk-container-id-1 div.sk-label-container {text-align: center;}#sk-container-id-1 div.sk-container {/* jupyter's `normalize.less` sets `[hidden] { display: none; }` but bootstrap.min.css set `[hidden] { display: none !important; }` so we also need the `!important` here to be able to override the default hidden behavior on the sphinx rendered scikit-learn.org. See: https://github.com/scikit-learn/scikit-learn/issues/21755 */display: inline-block !important;position: relative;}#sk-container-id-1 div.sk-text-repr-fallback {display: none;}</style><div id=\"sk-container-id-1\" class=\"sk-top-container\"><div class=\"sk-text-repr-fallback\"><pre>DecisionTreeClassifier()</pre><b>In a Jupyter environment, please rerun this cell to show the HTML representation or trust the notebook. <br />On GitHub, the HTML representation is unable to render, please try loading this page with nbviewer.org.</b></div><div class=\"sk-container\" hidden><div class=\"sk-item\"><div class=\"sk-estimator sk-toggleable\"><input class=\"sk-toggleable__control sk-hidden--visually\" id=\"sk-estimator-id-1\" type=\"checkbox\" checked><label for=\"sk-estimator-id-1\" class=\"sk-toggleable__label sk-toggleable__label-arrow\">DecisionTreeClassifier</label><div class=\"sk-toggleable__content\"><pre>DecisionTreeClassifier()</pre></div></div></div></div></div>"
      ],
      "text/plain": [
       "DecisionTreeClassifier()"
      ]
     },
     "execution_count": 10,
     "metadata": {},
     "output_type": "execute_result"
    }
   ],
   "source": [
    "model7.fit(x_train,y_train)"
   ]
  },
  {
   "cell_type": "code",
   "execution_count": 11,
   "metadata": {},
   "outputs": [
    {
     "data": {
      "text/plain": [
       "array([0, 0, 0, 0, 0, 2, 2, 2, 2, 2, 2, 0, 2, 2, 1, 2, 0, 3, 2, 2, 3, 2,\n",
       "       0, 0, 0, 2, 0, 0, 0, 2, 0, 1, 2, 2, 0, 2, 1, 3, 0, 2, 0, 0, 2, 0,\n",
       "       0, 0, 0, 0, 0, 2, 0, 3, 0, 4, 2, 3, 2, 2, 0, 2, 2, 2, 0, 2, 0, 2,\n",
       "       2, 0, 2, 3, 1, 0, 1, 2, 2, 2, 0, 2, 2, 2, 2, 2, 0, 0, 1, 2, 0, 3,\n",
       "       0, 2, 3, 2, 2, 0, 3, 0, 3, 2, 2, 0, 2, 3, 2, 2, 1, 2, 3, 2, 2, 0,\n",
       "       2, 0, 0, 2, 2, 2, 0, 0, 0, 1, 0, 1, 0, 0, 2, 0, 1, 0, 0, 2, 0, 0,\n",
       "       2, 0, 1, 2, 2, 0, 2, 0, 0, 2, 2, 1, 2, 0, 1, 2, 2, 2, 2, 0, 2, 0,\n",
       "       3, 0, 2, 2, 0, 2, 2, 2, 0, 0, 1, 0, 0, 2, 0, 3, 2, 2, 4, 0, 2, 2,\n",
       "       0, 2, 2, 2, 2, 2, 0, 2, 1, 0, 0, 2, 0, 2, 2, 0, 3, 0, 0, 2, 0, 2,\n",
       "       1, 0, 0, 2, 0, 0, 2, 0, 2, 2, 0, 0, 3, 0, 2, 1, 2, 2, 4, 0, 2, 0,\n",
       "       0, 2, 2, 0, 0, 2, 2, 2, 2, 2, 0, 2, 2, 0, 2, 0, 0, 0, 0, 0, 0, 1,\n",
       "       2, 0, 2, 3, 0, 1, 0, 2, 2, 0, 0, 2, 0, 0, 2, 3, 2, 2, 1, 2, 0, 2,\n",
       "       0, 3, 0, 0, 0, 2, 0, 0, 2, 2, 0, 3, 2, 2, 4, 2, 2, 2, 0, 2, 2, 3,\n",
       "       0, 0, 2, 0, 0, 3, 0, 0, 0, 2, 2, 0, 1, 2, 0, 2, 2, 2, 0, 2, 2, 0,\n",
       "       0, 0, 2, 2, 2, 2, 0, 2, 0, 2, 3, 1, 2, 2, 2, 0, 2, 0, 1, 0, 0, 2,\n",
       "       3, 3, 0, 2, 0, 2, 0, 2, 0, 3, 2, 0, 2, 0, 1, 2, 3, 3, 2, 0, 1, 3,\n",
       "       2, 0, 0, 1, 4, 1, 2, 2, 0, 2, 3, 0, 2, 2, 2, 2, 2, 2, 0, 0, 2, 2,\n",
       "       3, 1, 2, 0, 2, 2, 3, 0, 2, 2, 0, 0, 0, 2, 0, 1, 2, 3, 4, 0, 0, 0,\n",
       "       0, 2, 0, 0, 2, 1, 2, 0, 2, 2, 3, 3, 4, 0, 2, 1, 2, 1, 0, 0, 2, 1,\n",
       "       0, 0, 2, 2, 2, 2, 0, 0, 2, 2, 0, 0, 1, 2, 0, 2, 2, 2, 0, 2, 2, 2,\n",
       "       0, 0, 0, 0, 2, 0, 0, 0, 1, 2, 2, 4, 0, 0, 0, 3, 2, 2, 1, 0, 2, 2,\n",
       "       0, 0, 0, 0, 2, 0, 2, 1, 0, 0, 2, 0, 0, 2, 2, 2, 2, 2, 2, 1, 3, 2,\n",
       "       3, 4, 2, 2, 0, 0, 4, 2, 2, 2, 1, 2, 1, 3, 2, 0, 3, 0, 2, 3, 2, 2,\n",
       "       2, 0, 2, 2, 0, 1, 0, 0, 0, 0, 1, 0, 0, 2, 3, 1, 1, 2, 2, 0, 0, 0,\n",
       "       3, 0, 0, 2, 0, 2, 1, 0, 2, 2, 2, 2, 0, 2, 0, 0, 2, 0, 2, 1, 0, 2,\n",
       "       1, 2, 2, 2, 1, 0, 2, 0, 1, 0, 3, 0, 0, 2, 2, 3, 2, 0, 0, 2, 2, 2,\n",
       "       1, 4, 0, 0, 2, 2, 1, 2, 0, 2, 3, 0, 0, 0, 0, 0, 0, 3, 2, 0, 2, 4,\n",
       "       0, 2, 2, 2, 1, 2, 2, 3, 0, 0, 0, 2, 0, 0, 2, 0, 1, 2, 4, 0, 0, 0,\n",
       "       2, 0, 2, 2, 0, 0, 4, 0, 0, 0, 2, 2, 2, 0, 0, 2, 0, 0, 2, 2, 0, 0,\n",
       "       1, 2, 1, 2, 3, 0, 0, 2, 2, 2, 0, 2, 0, 2, 2, 2, 3, 2, 2, 3, 2, 0,\n",
       "       2, 0, 1, 2, 2, 0, 3, 0, 2, 2, 0, 2, 0, 1, 3, 2, 0, 3, 2, 0, 0, 2,\n",
       "       0, 1, 2, 1, 0, 0, 0, 0, 2, 3, 0, 0, 3, 2, 0, 2, 0, 2, 0, 0, 2, 0,\n",
       "       2, 3, 3, 2, 2, 3, 3, 2, 2, 2, 2, 1, 3, 2, 2, 0, 2, 2, 2, 1, 3, 0,\n",
       "       2, 2, 0, 2, 2, 2, 0, 0, 3, 2, 2, 0, 0, 2, 1, 0, 1, 1, 0, 0, 3, 2,\n",
       "       0, 1, 0, 0, 2, 0, 2, 0, 0, 2, 0, 2, 4, 1, 0, 0, 2, 4, 2, 2, 1, 2,\n",
       "       0, 0, 2, 3, 0, 3, 0, 2, 2, 0, 1, 2, 2, 2, 3, 2, 3, 2, 2, 0, 0, 1,\n",
       "       0, 2, 2, 2, 0, 0, 2, 2, 0, 3, 0, 0, 2, 0, 3, 3, 0, 2, 3, 0, 1, 2,\n",
       "       2, 0, 2, 3, 3, 2, 3, 0, 2, 0, 0, 2, 2, 0, 0, 2, 1, 0, 0, 0, 1, 2,\n",
       "       0, 2, 3, 2, 0, 3, 2, 3, 2, 0, 1, 3, 0, 2, 1, 0, 2, 3, 0, 0, 3, 1,\n",
       "       2, 2, 3, 0, 2, 2, 2, 3, 2, 0, 2, 2, 0, 2, 2, 0, 0, 0, 0, 1, 0, 0,\n",
       "       2, 2, 3, 2, 1, 2, 1, 1, 2, 0, 4, 1, 0, 2, 2, 4, 2, 2, 0, 2, 2, 2,\n",
       "       1, 2, 2, 2, 0, 0, 0, 2, 2, 0, 3, 2, 0, 1, 2, 0, 3, 2, 2, 0, 2, 2,\n",
       "       0, 3, 2, 0, 0, 2, 0, 0, 0, 2, 0, 0, 3, 2, 2, 0, 3, 2, 0, 2, 2, 0,\n",
       "       1, 0, 2, 2, 2, 0, 0, 0, 0, 0, 0, 2, 0, 0, 3, 1, 2, 0, 2, 0, 3, 0,\n",
       "       1, 2, 2, 2, 3, 2, 4, 0, 2, 0, 0, 0, 0, 2, 0, 0, 0, 3, 3, 1, 0, 0,\n",
       "       0, 0, 2, 2, 3, 0, 2, 1, 2, 0])"
      ]
     },
     "execution_count": 11,
     "metadata": {},
     "output_type": "execute_result"
    }
   ],
   "source": [
    "y_pred = model7.predict(x_test)\n",
    "y_pred"
   ]
  },
  {
   "cell_type": "code",
   "execution_count": 12,
   "metadata": {},
   "outputs": [
    {
     "name": "stdout",
     "output_type": "stream",
     "text": [
      "Test accuracy: 0.957\n",
      "              precision    recall  f1-score   support\n",
      "\n",
      "           0       0.96      0.95      0.95       387\n",
      "           1       0.98      0.98      0.98        87\n",
      "           2       0.95      0.96      0.95       411\n",
      "           3       0.99      0.96      0.97        98\n",
      "           4       0.89      1.00      0.94        17\n",
      "\n",
      "    accuracy                           0.96      1000\n",
      "   macro avg       0.95      0.97      0.96      1000\n",
      "weighted avg       0.96      0.96      0.96      1000\n",
      "\n"
     ]
    }
   ],
   "source": [
    "accuracy = model7.score(x_test,y_test)\n",
    "print('Test accuracy:', accuracy)\n",
    "print(classification_report(y_test, y_pred))"
   ]
  },
  {
   "cell_type": "code",
   "execution_count": 13,
   "metadata": {},
   "outputs": [
    {
     "name": "stdout",
     "output_type": "stream",
     "text": [
      "Test accuracy: 0.957\n",
      "Test precision: 0.9572428095931529\n",
      "Test recall: 0.957\n",
      "Test f1Score: 0.9570409724184854\n"
     ]
    }
   ],
   "source": [
    "import numpy as np\n",
    "from sklearn.metrics import classification_report, accuracy_score, f1_score, precision_score, recall_score\n",
    "\n",
    "accuracy = accuracy_score(y_test, y_pred)\n",
    "precision = precision_score(y_test, y_pred, average='weighted', labels=np.unique(y_pred))\n",
    "recall = recall_score(y_test, y_pred, average='weighted', labels=np.unique(y_pred))\n",
    "f1Score = f1_score(y_test, y_pred, average='weighted', labels=np.unique(y_pred))\n",
    "print('Test accuracy:', accuracy)\n",
    "print('Test precision:', precision)\n",
    "print('Test recall:', recall)\n",
    "print('Test f1Score:', f1Score)"
   ]
  }
 ],
 "metadata": {
  "interpreter": {
   "hash": "369f2c481f4da34e4445cda3fffd2e751bd1c4d706f27375911949ba6bb62e1c"
  },
  "kernelspec": {
   "display_name": "Python 3.10.0 64-bit",
   "language": "python",
   "name": "python3"
  },
  "language_info": {
   "codemirror_mode": {
    "name": "ipython",
    "version": 3
   },
   "file_extension": ".py",
   "mimetype": "text/x-python",
   "name": "python",
   "nbconvert_exporter": "python",
   "pygments_lexer": "ipython3",
   "version": "3.10.0"
  },
  "orig_nbformat": 4
 },
 "nbformat": 4,
 "nbformat_minor": 2
}
