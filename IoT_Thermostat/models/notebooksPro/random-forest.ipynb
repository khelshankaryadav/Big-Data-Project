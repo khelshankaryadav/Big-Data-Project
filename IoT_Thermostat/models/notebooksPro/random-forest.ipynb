{
  "cells": [
    {
      "cell_type": "code",
      "execution_count": 1,
      "metadata": {},
      "outputs": [],
      "source": [
        "import pandas as pd\n",
        "from sklearn.preprocessing import LabelEncoder\n",
        "from sklearn.model_selection import train_test_split\n",
        "from sklearn.ensemble import RandomForestClassifier\n",
        "from sklearn.metrics import accuracy_score, confusion_matrix, classification_report\n",
        "import pickle"
      ]
    },
    {
      "cell_type": "code",
      "execution_count": 2,
      "metadata": {},
      "outputs": [
        {
          "data": {
            "text/html": [
              "<div>\n",
              "<style scoped>\n",
              "    .dataframe tbody tr th:only-of-type {\n",
              "        vertical-align: middle;\n",
              "    }\n",
              "\n",
              "    .dataframe tbody tr th {\n",
              "        vertical-align: top;\n",
              "    }\n",
              "\n",
              "    .dataframe thead th {\n",
              "        text-align: right;\n",
              "    }\n",
              "</style>\n",
              "<table border=\"1\" class=\"dataframe\">\n",
              "  <thead>\n",
              "    <tr style=\"text-align: right;\">\n",
              "      <th></th>\n",
              "      <th>date</th>\n",
              "      <th>time</th>\n",
              "      <th>current_temperature</th>\n",
              "      <th>thermostat_status</th>\n",
              "      <th>label</th>\n",
              "      <th>type</th>\n",
              "    </tr>\n",
              "  </thead>\n",
              "  <tbody>\n",
              "    <tr>\n",
              "      <th>0</th>\n",
              "      <td>31-Mar-19</td>\n",
              "      <td>12:36:52</td>\n",
              "      <td>25.0</td>\n",
              "      <td>0</td>\n",
              "      <td>0</td>\n",
              "      <td>2</td>\n",
              "    </tr>\n",
              "    <tr>\n",
              "      <th>1</th>\n",
              "      <td>31-Mar-19</td>\n",
              "      <td>12:36:53</td>\n",
              "      <td>25.0</td>\n",
              "      <td>0</td>\n",
              "      <td>0</td>\n",
              "      <td>2</td>\n",
              "    </tr>\n",
              "    <tr>\n",
              "      <th>2</th>\n",
              "      <td>31-Mar-19</td>\n",
              "      <td>12:36:54</td>\n",
              "      <td>25.0</td>\n",
              "      <td>0</td>\n",
              "      <td>0</td>\n",
              "      <td>2</td>\n",
              "    </tr>\n",
              "    <tr>\n",
              "      <th>3</th>\n",
              "      <td>31-Mar-19</td>\n",
              "      <td>12:36:55</td>\n",
              "      <td>25.0</td>\n",
              "      <td>0</td>\n",
              "      <td>0</td>\n",
              "      <td>2</td>\n",
              "    </tr>\n",
              "    <tr>\n",
              "      <th>4</th>\n",
              "      <td>31-Mar-19</td>\n",
              "      <td>12:36:56</td>\n",
              "      <td>25.0</td>\n",
              "      <td>0</td>\n",
              "      <td>0</td>\n",
              "      <td>2</td>\n",
              "    </tr>\n",
              "  </tbody>\n",
              "</table>\n",
              "</div>"
            ],
            "text/plain": [
              "        date      time  current_temperature  thermostat_status  label  type\n",
              "0  31-Mar-19  12:36:52                 25.0                  0      0     2\n",
              "1  31-Mar-19  12:36:53                 25.0                  0      0     2\n",
              "2  31-Mar-19  12:36:54                 25.0                  0      0     2\n",
              "3  31-Mar-19  12:36:55                 25.0                  0      0     2\n",
              "4  31-Mar-19  12:36:56                 25.0                  0      0     2"
            ]
          },
          "execution_count": 2,
          "metadata": {},
          "output_type": "execute_result"
        }
      ],
      "source": [
        "IoT = pd.read_csv('../../data/IoT_Thermostat.csv')\n",
        "# IoT = IoT.iloc[0:10000]\n",
        "\n",
        "IoT = IoT.dropna()\n",
        "\n",
        "encoder=LabelEncoder()\n",
        "IoT['type']=encoder.fit_transform(IoT['type'])\n",
        "\n",
        "\n",
        "IoT.head()"
      ]
    },
    {
      "cell_type": "code",
      "execution_count": 3,
      "metadata": {},
      "outputs": [],
      "source": [
        "x = IoT.drop(['label', 'date', 'time', 'type'], axis=1)\n",
        "y = IoT['type']\n",
        "features=len(x.columns)\n",
        "\n",
        "x_train,x_test,y_train,y_test = train_test_split(x, y, test_size=0.2)"
      ]
    },
    {
      "cell_type": "code",
      "execution_count": 4,
      "metadata": {},
      "outputs": [],
      "source": [
        "model3 = RandomForestClassifier(n_estimators=100)"
      ]
    },
    {
      "cell_type": "code",
      "execution_count": 5,
      "metadata": {},
      "outputs": [],
      "source": [
        "filename = '../h5sPro/random-forest.h5'\n",
        "pickle.dump(model3, open(filename, 'wb'))"
      ]
    },
    {
      "cell_type": "code",
      "execution_count": 6,
      "metadata": {},
      "outputs": [
        {
          "data": {
            "text/plain": [
              "RandomForestClassifier()"
            ]
          },
          "execution_count": 6,
          "metadata": {},
          "output_type": "execute_result"
        }
      ],
      "source": [
        "model3.fit(x_train, y_train)"
      ]
    },
    {
      "cell_type": "code",
      "execution_count": 7,
      "metadata": {},
      "outputs": [
        {
          "data": {
            "text/plain": [
              "array([2, 2, 2, ..., 2, 0, 2])"
            ]
          },
          "execution_count": 7,
          "metadata": {},
          "output_type": "execute_result"
        }
      ],
      "source": [
        "y_pred = model3.predict(x_test)\n",
        "y_pred"
      ]
    },
    {
      "cell_type": "code",
      "execution_count": 8,
      "metadata": {},
      "outputs": [
        {
          "data": {
            "text/plain": [
              "array([[  622,   156,  6250,   133,    29,     0,     9],\n",
              "       [  159,    47,  1667,    46,     8,     0,     0],\n",
              "       [ 5105,  1356, 68115,  1175,   301,     9,    57],\n",
              "       [  157,    43,  1458,    28,     8,     0,     0],\n",
              "       [   45,     8,   426,    11,     3,     0,     0],\n",
              "       [    0,     1,     8,     1,     1,     0,     0],\n",
              "       [    4,     3,    72,     0,     1,     0,     0]], dtype=int64)"
            ]
          },
          "execution_count": 8,
          "metadata": {},
          "output_type": "execute_result"
        }
      ],
      "source": [
        "confusion_matrix(y_test,y_pred)"
      ]
    },
    {
      "cell_type": "code",
      "execution_count": 9,
      "metadata": {},
      "outputs": [
        {
          "name": "stdout",
          "output_type": "stream",
          "text": [
            "Test accuracy: 0.786259454765659\n",
            "              precision    recall  f1-score   support\n",
            "\n",
            "           0       0.10      0.09      0.09      7199\n",
            "           1       0.03      0.02      0.03      1927\n",
            "           2       0.87      0.89      0.88     76118\n",
            "           3       0.02      0.02      0.02      1694\n",
            "           4       0.01      0.01      0.01       493\n",
            "           5       0.00      0.00      0.00        11\n",
            "           6       0.00      0.00      0.00        80\n",
            "\n",
            "    accuracy                           0.79     87522\n",
            "   macro avg       0.15      0.15      0.15     87522\n",
            "weighted avg       0.77      0.79      0.78     87522\n",
            "\n"
          ]
        }
      ],
      "source": [
        "accuracy = accuracy_score(y_test, y_pred)\n",
        "print('Test accuracy:', accuracy)\n",
        "print(classification_report(y_test, y_pred))"
      ]
    },
    {
      "cell_type": "code",
      "execution_count": 10,
      "metadata": {},
      "outputs": [
        {
          "name": "stdout",
          "output_type": "stream",
          "text": [
            "Test accuracy: 0.786259454765659\n",
            "Test precision: 0.7689986098997503\n",
            "Test recall: 0.786259454765659\n",
            "Test f1Score: 0.7774519634186099\n"
          ]
        }
      ],
      "source": [
        "import numpy as np\n",
        "from sklearn.metrics import classification_report, accuracy_score, f1_score, precision_score, recall_score\n",
        "\n",
        "accuracy = accuracy_score(y_test, y_pred)\n",
        "precision = precision_score(y_test, y_pred, average='weighted', labels=np.unique(y_pred))\n",
        "recall = recall_score(y_test, y_pred, average='weighted', labels=np.unique(y_pred))\n",
        "f1Score = f1_score(y_test, y_pred, average='weighted', labels=np.unique(y_pred))\n",
        "print('Test accuracy:', accuracy)\n",
        "print('Test precision:', precision)\n",
        "print('Test recall:', recall)\n",
        "print('Test f1Score:', f1Score)"
      ]
    }
  ],
  "metadata": {
    "interpreter": {
      "hash": "d5115ea8b933d98f0305b8fea7a55b8772ec72ffc39e58dc7a3c0cc44c33decb"
    },
    "kernelspec": {
      "display_name": "Python 3.9.12 ('base')",
      "language": "python",
      "name": "python3"
    },
    "language_info": {
      "codemirror_mode": {
        "name": "ipython",
        "version": 3
      },
      "file_extension": ".py",
      "mimetype": "text/x-python",
      "name": "python",
      "nbconvert_exporter": "python",
      "pygments_lexer": "ipython3",
      "version": "3.9.12"
    },
    "orig_nbformat": 4
  },
  "nbformat": 4,
  "nbformat_minor": 2
}
