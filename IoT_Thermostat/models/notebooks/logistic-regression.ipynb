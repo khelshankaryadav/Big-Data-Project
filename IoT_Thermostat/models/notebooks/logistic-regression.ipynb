{
 "cells": [
  {
   "cell_type": "code",
   "execution_count": 1,
   "metadata": {},
   "outputs": [],
   "source": [
    "import pandas as pd\n",
    "from sklearn.preprocessing import LabelEncoder\n",
    "from sklearn.model_selection import train_test_split\n",
    "from sklearn.linear_model import LogisticRegression\n",
    "from sklearn.metrics import confusion_matrix\n",
    "import pickle"
   ]
  },
  {
   "cell_type": "code",
   "execution_count": 2,
   "metadata": {},
   "outputs": [
    {
     "data": {
      "text/html": [
       "<div>\n",
       "<style scoped>\n",
       "    .dataframe tbody tr th:only-of-type {\n",
       "        vertical-align: middle;\n",
       "    }\n",
       "\n",
       "    .dataframe tbody tr th {\n",
       "        vertical-align: top;\n",
       "    }\n",
       "\n",
       "    .dataframe thead th {\n",
       "        text-align: right;\n",
       "    }\n",
       "</style>\n",
       "<table border=\"1\" class=\"dataframe\">\n",
       "  <thead>\n",
       "    <tr style=\"text-align: right;\">\n",
       "      <th></th>\n",
       "      <th>date</th>\n",
       "      <th>time</th>\n",
       "      <th>current_temperature</th>\n",
       "      <th>thermostat_status</th>\n",
       "      <th>label</th>\n",
       "      <th>type</th>\n",
       "    </tr>\n",
       "  </thead>\n",
       "  <tbody>\n",
       "    <tr>\n",
       "      <th>0</th>\n",
       "      <td>28-Apr-19</td>\n",
       "      <td>06:59:38</td>\n",
       "      <td>25.000000</td>\n",
       "      <td>0</td>\n",
       "      <td>1</td>\n",
       "      <td>0</td>\n",
       "    </tr>\n",
       "    <tr>\n",
       "      <th>1</th>\n",
       "      <td>28-Apr-19</td>\n",
       "      <td>06:59:43</td>\n",
       "      <td>30.714166</td>\n",
       "      <td>0</td>\n",
       "      <td>1</td>\n",
       "      <td>0</td>\n",
       "    </tr>\n",
       "    <tr>\n",
       "      <th>2</th>\n",
       "      <td>28-Apr-19</td>\n",
       "      <td>06:59:48</td>\n",
       "      <td>30.396484</td>\n",
       "      <td>1</td>\n",
       "      <td>1</td>\n",
       "      <td>0</td>\n",
       "    </tr>\n",
       "    <tr>\n",
       "      <th>3</th>\n",
       "      <td>28-Apr-19</td>\n",
       "      <td>06:59:53</td>\n",
       "      <td>30.181989</td>\n",
       "      <td>1</td>\n",
       "      <td>1</td>\n",
       "      <td>0</td>\n",
       "    </tr>\n",
       "    <tr>\n",
       "      <th>4</th>\n",
       "      <td>28-Apr-19</td>\n",
       "      <td>06:59:58</td>\n",
       "      <td>29.688110</td>\n",
       "      <td>1</td>\n",
       "      <td>1</td>\n",
       "      <td>0</td>\n",
       "    </tr>\n",
       "  </tbody>\n",
       "</table>\n",
       "</div>"
      ],
      "text/plain": [
       "        date        time  current_temperature  thermostat_status  label  type\n",
       "0  28-Apr-19   06:59:38             25.000000                  0      1     0\n",
       "1  28-Apr-19   06:59:43             30.714166                  0      1     0\n",
       "2  28-Apr-19   06:59:48             30.396484                  1      1     0\n",
       "3  28-Apr-19   06:59:53             30.181989                  1      1     0\n",
       "4  28-Apr-19   06:59:58             29.688110                  1      1     0"
      ]
     },
     "execution_count": 2,
     "metadata": {},
     "output_type": "execute_result"
    }
   ],
   "source": [
    "IoT = pd.read_csv('../../data/Test_IoT_Thermostat.csv')\n",
    "# IoT = IoT.iloc[0:500]\n",
    "\n",
    "IoT = IoT.dropna()\n",
    "\n",
    "encoder=LabelEncoder()\n",
    "IoT['type']=encoder.fit_transform(IoT['type'])\n",
    "\n",
    "IoT.head()"
   ]
  },
  {
   "cell_type": "code",
   "execution_count": 3,
   "metadata": {},
   "outputs": [],
   "source": [
    "x = IoT.drop(['label', 'date', 'time', 'type'], axis=1)\n",
    "y = IoT['type']\n",
    "\n",
    "x_train,x_test,y_train,y_test = train_test_split(x, y, test_size=0.2)"
   ]
  },
  {
   "cell_type": "code",
   "execution_count": 4,
   "metadata": {},
   "outputs": [],
   "source": [
    "model4 = LogisticRegression()"
   ]
  },
  {
   "cell_type": "code",
   "execution_count": 5,
   "metadata": {},
   "outputs": [],
   "source": [
    "filename = '../h5s/logistic-regression.h5'\n",
    "pickle.dump(model4, open(filename, 'wb'))"
   ]
  },
  {
   "cell_type": "code",
   "execution_count": 6,
   "metadata": {},
   "outputs": [
    {
     "data": {
      "text/plain": [
       "LogisticRegression()"
      ]
     },
     "execution_count": 6,
     "metadata": {},
     "output_type": "execute_result"
    }
   ],
   "source": [
    "model4.fit(x_train,y_train)"
   ]
  },
  {
   "cell_type": "code",
   "execution_count": 7,
   "metadata": {},
   "outputs": [
    {
     "data": {
      "text/plain": [
       "array([2, 4, 2, ..., 2, 2, 2])"
      ]
     },
     "execution_count": 7,
     "metadata": {},
     "output_type": "execute_result"
    }
   ],
   "source": [
    "y_pred=model4.predict(x_test)\n",
    "y_pred"
   ]
  },
  {
   "cell_type": "code",
   "execution_count": 8,
   "metadata": {},
   "outputs": [
    {
     "name": "stdout",
     "output_type": "stream",
     "text": [
      "Test accuracy: 0.21687840290381125\n"
     ]
    }
   ],
   "source": [
    "score = model4.score(x_test,y_test)\n",
    "print('Test accuracy:', score)"
   ]
  },
  {
   "cell_type": "code",
   "execution_count": 9,
   "metadata": {},
   "outputs": [
    {
     "data": {
      "text/plain": [
       "array([[  0,   0,  70,  51,  90,   0,   0],\n",
       "       [  0,   0,  59,  65,  91,   0,   0],\n",
       "       [  0,   0, 114,  41,  40,   0,   0],\n",
       "       [  0,   0,  58,  54,  75,   0,   0],\n",
       "       [  0,   0,  60,  59,  71,   0,   0],\n",
       "       [  0,   0,   5,   0,   6,   0,   0],\n",
       "       [  0,   0,  37,  22,  34,   0,   0]], dtype=int64)"
      ]
     },
     "execution_count": 9,
     "metadata": {},
     "output_type": "execute_result"
    }
   ],
   "source": [
    "confusion_matrix(y_test,y_pred)"
   ]
  },
  {
   "cell_type": "code",
   "execution_count": 10,
   "metadata": {},
   "outputs": [
    {
     "name": "stdout",
     "output_type": "stream",
     "text": [
      "Test accuracy: 0.21687840290381125\n",
      "Test precision: 0.21483993924539457\n",
      "Test recall: 0.4178321678321678\n",
      "Test f1Score: 0.2826980684460422\n"
     ]
    }
   ],
   "source": [
    "import numpy as np\n",
    "from sklearn.metrics import classification_report, accuracy_score, f1_score, precision_score, recall_score\n",
    "\n",
    "accuracy = accuracy_score(y_test, y_pred)\n",
    "precision = precision_score(y_test, y_pred, average='weighted', labels=np.unique(y_pred))\n",
    "recall = recall_score(y_test, y_pred, average='weighted', labels=np.unique(y_pred))\n",
    "f1Score = f1_score(y_test, y_pred, average='weighted', labels=np.unique(y_pred))\n",
    "print('Test accuracy:', accuracy)\n",
    "print('Test precision:', precision)\n",
    "print('Test recall:', recall)\n",
    "print('Test f1Score:', f1Score)"
   ]
  }
 ],
 "metadata": {
  "interpreter": {
   "hash": "d5115ea8b933d98f0305b8fea7a55b8772ec72ffc39e58dc7a3c0cc44c33decb"
  },
  "kernelspec": {
   "display_name": "Python 3.9.12 ('base')",
   "language": "python",
   "name": "python3"
  },
  "language_info": {
   "codemirror_mode": {
    "name": "ipython",
    "version": 3
   },
   "file_extension": ".py",
   "mimetype": "text/x-python",
   "name": "python",
   "nbconvert_exporter": "python",
   "pygments_lexer": "ipython3",
   "version": "3.9.12"
  },
  "orig_nbformat": 4
 },
 "nbformat": 4,
 "nbformat_minor": 2
}
