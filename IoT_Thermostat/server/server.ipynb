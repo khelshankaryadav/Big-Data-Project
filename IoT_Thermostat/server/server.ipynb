{
 "cells": [
  {
   "cell_type": "markdown",
   "metadata": {},
   "source": [
    "### Server Setup\n",
    "\n",
    "Creating a stream of data & sending it to the clients.\n",
    "\n",
    "<br>\n",
    "<br>"
   ]
  },
  {
   "cell_type": "code",
   "execution_count": 1,
   "metadata": {},
   "outputs": [],
   "source": [
    "# to specify delay between two consecutive records in stream\n",
    "DELAY = 0.1"
   ]
  },
  {
   "cell_type": "code",
   "execution_count": 2,
   "metadata": {},
   "outputs": [],
   "source": [
    "# Importing required modules\n",
    "\n",
    "# data streaming\n",
    "import asyncio\n",
    "import websockets\n",
    "from time import sleep\n",
    "\n",
    "# data processing\n",
    "import pandas as pd\n",
    "from sklearn.preprocessing import LabelEncoder"
   ]
  },
  {
   "cell_type": "code",
   "execution_count": 3,
   "metadata": {},
   "outputs": [],
   "source": [
    "# Read csv files of merged data\n",
    "\n",
    "# # original data\n",
    "# data = pd.read_csv(\"../data/IoT_Garage_Door.csv\", low_memory=False)\n",
    "\n",
    "# test data for presentation purpose\n",
    "data = pd.read_csv(\"../data/IoT_Thermostat.csv\", low_memory=False)\n"
   ]
  },
  {
   "cell_type": "code",
   "execution_count": 4,
   "metadata": {},
   "outputs": [],
   "source": [
    "# dropping NaN or NA values\n",
    "data = data.dropna()\n",
    "\n",
    "# encoding string type variables to numeric type (required for model training)\n",
    "encoder=LabelEncoder()\n",
    "data['type']=encoder.fit_transform(data['type'])"
   ]
  },
  {
   "cell_type": "code",
   "execution_count": 5,
   "metadata": {},
   "outputs": [
    {
     "data": {
      "text/html": [
       "<div>\n",
       "<style scoped>\n",
       "    .dataframe tbody tr th:only-of-type {\n",
       "        vertical-align: middle;\n",
       "    }\n",
       "\n",
       "    .dataframe tbody tr th {\n",
       "        vertical-align: top;\n",
       "    }\n",
       "\n",
       "    .dataframe thead th {\n",
       "        text-align: right;\n",
       "    }\n",
       "</style>\n",
       "<table border=\"1\" class=\"dataframe\">\n",
       "  <thead>\n",
       "    <tr style=\"text-align: right;\">\n",
       "      <th></th>\n",
       "      <th>date</th>\n",
       "      <th>time</th>\n",
       "      <th>current_temperature</th>\n",
       "      <th>thermostat_status</th>\n",
       "      <th>label</th>\n",
       "      <th>type</th>\n",
       "    </tr>\n",
       "  </thead>\n",
       "  <tbody>\n",
       "    <tr>\n",
       "      <th>0</th>\n",
       "      <td>28-Apr-19</td>\n",
       "      <td>06:59:38</td>\n",
       "      <td>25.000000</td>\n",
       "      <td>0</td>\n",
       "      <td>1</td>\n",
       "      <td>0</td>\n",
       "    </tr>\n",
       "    <tr>\n",
       "      <th>1</th>\n",
       "      <td>28-Apr-19</td>\n",
       "      <td>06:59:43</td>\n",
       "      <td>30.714166</td>\n",
       "      <td>0</td>\n",
       "      <td>1</td>\n",
       "      <td>0</td>\n",
       "    </tr>\n",
       "    <tr>\n",
       "      <th>2</th>\n",
       "      <td>28-Apr-19</td>\n",
       "      <td>06:59:48</td>\n",
       "      <td>30.396484</td>\n",
       "      <td>1</td>\n",
       "      <td>1</td>\n",
       "      <td>0</td>\n",
       "    </tr>\n",
       "    <tr>\n",
       "      <th>3</th>\n",
       "      <td>28-Apr-19</td>\n",
       "      <td>06:59:53</td>\n",
       "      <td>30.181989</td>\n",
       "      <td>1</td>\n",
       "      <td>1</td>\n",
       "      <td>0</td>\n",
       "    </tr>\n",
       "    <tr>\n",
       "      <th>4</th>\n",
       "      <td>28-Apr-19</td>\n",
       "      <td>06:59:58</td>\n",
       "      <td>29.688110</td>\n",
       "      <td>1</td>\n",
       "      <td>1</td>\n",
       "      <td>0</td>\n",
       "    </tr>\n",
       "  </tbody>\n",
       "</table>\n",
       "</div>"
      ],
      "text/plain": [
       "        date        time  current_temperature  thermostat_status  label  type\n",
       "0  28-Apr-19   06:59:38             25.000000                  0      1     0\n",
       "1  28-Apr-19   06:59:43             30.714166                  0      1     0\n",
       "2  28-Apr-19   06:59:48             30.396484                  1      1     0\n",
       "3  28-Apr-19   06:59:53             30.181989                  1      1     0\n",
       "4  28-Apr-19   06:59:58             29.688110                  1      1     0"
      ]
     },
     "execution_count": 5,
     "metadata": {},
     "output_type": "execute_result"
    }
   ],
   "source": [
    "data.head()"
   ]
  },
  {
   "cell_type": "code",
   "execution_count": 6,
   "metadata": {},
   "outputs": [],
   "source": [
    "async def server(websocket):\n",
    "    \"\"\"\n",
    "    Server function to stream data row-wise in a comma separated string format.\n",
    "    \"\"\"\n",
    "\n",
    "    # convert a row to space(\" \") separated string format\n",
    "    temp = data.to_string(header=False,index=False,\n",
    "                  index_names=False).split('\\n')\n",
    "\n",
    "    # now convert above row to comma(\",\") separated string format\n",
    "    rows = [','.join(ele.split()) for ele in temp]\n",
    "    \n",
    "    c=0    # variable to keep track of number of records sent\n",
    "\n",
    "    # while 'c' is less than & equal to total number of records in dataset\n",
    "    # this loop is responsible for creating data stream\n",
    "    while(len(data)>c):\n",
    "        # send stringified row to the client\n",
    "        await websocket.send(rows[c])\n",
    "\n",
    "        # wait of acknowledgement\n",
    "        ok = await websocket.recv()\n",
    "        if(bool(ok)):\n",
    "            c+=1    # if successfully received then increment 'c' by 1\n",
    "        \n",
    "        # add artificial delay to simulate a remote server client setup having communication delays due to network traffic\n",
    "        sleep(DELAY)\n",
    "\n",
    "async def main():\n",
    "    async with websockets.serve(server, \"localhost\", 8765, ping_interval=None):\n",
    "        await asyncio.Future()  # run forever\n",
    "\n",
    "await main()"
   ]
  },
  {
   "cell_type": "markdown",
   "metadata": {},
   "source": [
    "<br>\n",
    "<br>\n",
    "<center><b>End of File</b></center>"
   ]
  }
 ],
 "metadata": {
  "interpreter": {
   "hash": "d5115ea8b933d98f0305b8fea7a55b8772ec72ffc39e58dc7a3c0cc44c33decb"
  },
  "kernelspec": {
   "display_name": "Python 3.9.12 ('base')",
   "language": "python",
   "name": "python3"
  },
  "language_info": {
   "codemirror_mode": {
    "name": "ipython",
    "version": 3
   },
   "file_extension": ".py",
   "mimetype": "text/x-python",
   "name": "python",
   "nbconvert_exporter": "python",
   "pygments_lexer": "ipython3",
   "version": "3.9.12"
  },
  "orig_nbformat": 4,
  "vscode": {
   "interpreter": {
    "hash": "916dbcbb3f70747c44a77c7bcd40155683ae19c65e1c03b4aa3499c5328201f1"
   }
  }
 },
 "nbformat": 4,
 "nbformat_minor": 2
}
