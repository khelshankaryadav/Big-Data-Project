{
 "cells": [
  {
   "cell_type": "markdown",
   "metadata": {},
   "source": [
    "### Server Setup\n",
    "\n",
    "Creating a stream of data & sending it to the clients.\n",
    "\n",
    "<br>\n",
    "<br>"
   ]
  },
  {
   "cell_type": "code",
   "execution_count": 1,
   "metadata": {},
   "outputs": [],
   "source": [
    "# to specify delay between two consecutive records in stream\n",
    "DELAY = 0.001"
   ]
  },
  {
   "cell_type": "code",
   "execution_count": 2,
   "metadata": {},
   "outputs": [],
   "source": [
    "# Importing required modules\n",
    "\n",
    "# data streaming\n",
    "import asyncio\n",
    "import websockets\n",
    "from time import sleep\n",
    "\n",
    "# data processing\n",
    "import pandas as pd\n",
    "from sklearn.preprocessing import LabelEncoder"
   ]
  },
  {
   "cell_type": "code",
   "execution_count": 3,
   "metadata": {},
   "outputs": [],
   "source": [
    "# Read csv files of merged data\n",
    "\n",
    "# # original data\n",
    "# data = pd.read_csv(\"../data/IoT_Garage_Door.csv\", low_memory=False)\n",
    "\n",
    "# test data for presentation purpose\n",
    "data = pd.read_csv(\"../data/Test_IoT_Thermostat.csv\", low_memory=False)\n"
   ]
  },
  {
   "cell_type": "code",
   "execution_count": 4,
   "metadata": {},
   "outputs": [],
   "source": [
    "# dropping NaN or NA values\n",
    "data = data.dropna()\n",
    "\n",
    "# encoding string type variables to numeric type (required for model training)\n",
    "encoder=LabelEncoder()\n",
    "data['type']=encoder.fit_transform(data['type'])"
   ]
  },
  {
   "cell_type": "code",
   "execution_count": 5,
   "metadata": {},
   "outputs": [
    {
     "data": {
      "text/html": [
       "<div>\n",
       "<style scoped>\n",
       "    .dataframe tbody tr th:only-of-type {\n",
       "        vertical-align: middle;\n",
       "    }\n",
       "\n",
       "    .dataframe tbody tr th {\n",
       "        vertical-align: top;\n",
       "    }\n",
       "\n",
       "    .dataframe thead th {\n",
       "        text-align: right;\n",
       "    }\n",
       "</style>\n",
       "<table border=\"1\" class=\"dataframe\">\n",
       "  <thead>\n",
       "    <tr style=\"text-align: right;\">\n",
       "      <th></th>\n",
       "      <th>date</th>\n",
       "      <th>time</th>\n",
       "      <th>current_temperature</th>\n",
       "      <th>thermostat_status</th>\n",
       "      <th>label</th>\n",
       "      <th>type</th>\n",
       "    </tr>\n",
       "  </thead>\n",
       "  <tbody>\n",
       "    <tr>\n",
       "      <th>0</th>\n",
       "      <td>25-Apr-19</td>\n",
       "      <td>08:59:02</td>\n",
       "      <td>30.577325</td>\n",
       "      <td>1</td>\n",
       "      <td>1</td>\n",
       "      <td>1</td>\n",
       "    </tr>\n",
       "    <tr>\n",
       "      <th>1</th>\n",
       "      <td>25-Apr-19</td>\n",
       "      <td>08:59:06</td>\n",
       "      <td>29.187912</td>\n",
       "      <td>1</td>\n",
       "      <td>1</td>\n",
       "      <td>1</td>\n",
       "    </tr>\n",
       "    <tr>\n",
       "      <th>2</th>\n",
       "      <td>25-Apr-19</td>\n",
       "      <td>08:59:06</td>\n",
       "      <td>30.208893</td>\n",
       "      <td>1</td>\n",
       "      <td>1</td>\n",
       "      <td>1</td>\n",
       "    </tr>\n",
       "    <tr>\n",
       "      <th>3</th>\n",
       "      <td>25-Apr-19</td>\n",
       "      <td>08:59:06</td>\n",
       "      <td>27.731392</td>\n",
       "      <td>1</td>\n",
       "      <td>1</td>\n",
       "      <td>1</td>\n",
       "    </tr>\n",
       "    <tr>\n",
       "      <th>4</th>\n",
       "      <td>25-Apr-19</td>\n",
       "      <td>08:59:06</td>\n",
       "      <td>26.211462</td>\n",
       "      <td>1</td>\n",
       "      <td>1</td>\n",
       "      <td>1</td>\n",
       "    </tr>\n",
       "  </tbody>\n",
       "</table>\n",
       "</div>"
      ],
      "text/plain": [
       "        date      time  current_temperature  thermostat_status  label  type\n",
       "0  25-Apr-19  08:59:02            30.577325                  1      1     1\n",
       "1  25-Apr-19  08:59:06            29.187912                  1      1     1\n",
       "2  25-Apr-19  08:59:06            30.208893                  1      1     1\n",
       "3  25-Apr-19  08:59:06            27.731392                  1      1     1\n",
       "4  25-Apr-19  08:59:06            26.211462                  1      1     1"
      ]
     },
     "execution_count": 5,
     "metadata": {},
     "output_type": "execute_result"
    }
   ],
   "source": [
    "data.head()"
   ]
  },
  {
   "cell_type": "code",
   "execution_count": 6,
   "metadata": {},
   "outputs": [],
   "source": [
    "async def server(websocket):\n",
    "    \"\"\"\n",
    "    Server function to stream data row-wise in a comma separated string format.\n",
    "    \"\"\"\n",
    "\n",
    "    # convert a row to space(\" \") separated string format\n",
    "    temp = data.to_string(header=False,index=False,\n",
    "                  index_names=False).split('\\n')\n",
    "\n",
    "    # now convert above row to comma(\",\") separated string format\n",
    "    rows = [','.join(ele.split()) for ele in temp]\n",
    "    \n",
    "    c=0    # variable to keep track of number of records sent\n",
    "\n",
    "    # while 'c' is less than & equal to total number of records in dataset\n",
    "    # this loop is responsible for creating data stream\n",
    "    while(len(data)>c):\n",
    "        # send stringified row to the client\n",
    "        await websocket.send(rows[c])\n",
    "\n",
    "        # wait of acknowledgement\n",
    "        ok = await websocket.recv()\n",
    "        if(bool(ok)):\n",
    "            c+=1    # if successfully received then increment 'c' by 1\n",
    "        \n",
    "        # add artificial delay to simulate a remote server client setup having communication delays due to network traffic\n",
    "        sleep(DELAY)\n",
    "\n",
    "async def main():\n",
    "    async with websockets.serve(server, \"localhost\", 8765, ping_interval=None):\n",
    "        await asyncio.Future()  # run forever\n",
    "\n",
    "await main()"
   ]
  },
  {
   "cell_type": "markdown",
   "metadata": {},
   "source": [
    "<br>\n",
    "<br>\n",
    "<center><b>End of File</b></center>"
   ]
  }
 ],
 "metadata": {
  "interpreter": {
   "hash": "d5115ea8b933d98f0305b8fea7a55b8772ec72ffc39e58dc7a3c0cc44c33decb"
  },
  "kernelspec": {
   "display_name": "Python 3.9.12 ('base')",
   "language": "python",
   "name": "python3"
  },
  "language_info": {
   "codemirror_mode": {
    "name": "ipython",
    "version": 3
   },
   "file_extension": ".py",
   "mimetype": "text/x-python",
   "name": "python",
   "nbconvert_exporter": "python",
   "pygments_lexer": "ipython3",
   "version": "3.9.12"
  },
  "orig_nbformat": 4,
  "vscode": {
   "interpreter": {
    "hash": "916dbcbb3f70747c44a77c7bcd40155683ae19c65e1c03b4aa3499c5328201f1"
   }
  }
 },
 "nbformat": 4,
 "nbformat_minor": 2
}
